{
 "cells": [
  {
   "cell_type": "code",
   "execution_count": 1,
   "metadata": {},
   "outputs": [
    {
     "data": {
      "text/plain": [
       "\"Hello, world\""
      ]
     },
     "metadata": {},
     "output_type": "display_data"
    }
   ],
   "source": [
    "\"Hello, world\""
   ]
  },
  {
   "cell_type": "code",
   "execution_count": 2,
   "metadata": {},
   "outputs": [
    {
     "data": {
      "text/plain": [
       "\"Hello, world!\""
      ]
     },
     "metadata": {},
     "output_type": "display_data"
    }
   ],
   "source": [
    "mystringexample1 = \"Hello, world!\""
   ]
  },
  {
   "cell_type": "code",
   "execution_count": 3,
   "metadata": {},
   "outputs": [
    {
     "data": {
      "text/plain": [
       "\"Hello, world!\""
      ]
     },
     "metadata": {},
     "output_type": "display_data"
    }
   ],
   "source": [
    "mystringexample1"
   ]
  },
  {
   "cell_type": "code",
   "execution_count": 4,
   "metadata": {},
   "outputs": [
    {
     "name": "stdout",
     "output_type": "stream",
     "text": [
      "Hello, world!\n"
     ]
    }
   ],
   "source": [
    "println(mystringexample1)"
   ]
  },
  {
   "cell_type": "code",
   "execution_count": 5,
   "metadata": {},
   "outputs": [
    {
     "ename": "ErrorException",
     "evalue": "syntax: invalid assignment location \"\"Hello world\"\" around c:\\Users\\joshm\\Documents\\VSCode\\julia\\JuliaProgrammingForNervousBeginners\\Notebooks\\Week1.ipynb:1",
     "output_type": "error",
     "traceback": [
      "syntax: invalid assignment location \"\"Hello world\"\" around c:\\Users\\joshm\\Documents\\VSCode\\julia\\JuliaProgrammingForNervousBeginners\\Notebooks\\Week1.ipynb:1\n",
      "\n",
      "Stacktrace:\n",
      " [1] top-level scope\n",
      "   @ c:\\Users\\joshm\\Documents\\VSCode\\julia\\JuliaProgrammingForNervousBeginners\\Notebooks\\Week1.ipynb:1"
     ]
    }
   ],
   "source": [
    "\"Hello world\" = mystringexample1"
   ]
  },
  {
   "cell_type": "code",
   "execution_count": 6,
   "metadata": {},
   "outputs": [
    {
     "data": {
      "text/plain": [
       "\"Hello, world!\""
      ]
     },
     "metadata": {},
     "output_type": "display_data"
    }
   ],
   "source": [
    "Hello, world = mystringexample1"
   ]
  },
  {
   "cell_type": "code",
   "execution_count": 7,
   "metadata": {},
   "outputs": [
    {
     "data": {
      "text/plain": [
       "\"Hello, world!\""
      ]
     },
     "metadata": {},
     "output_type": "display_data"
    }
   ],
   "source": [
    "mystringexample1"
   ]
  },
  {
   "cell_type": "code",
   "execution_count": 8,
   "metadata": {},
   "outputs": [
    {
     "data": {
      "text/plain": [
       "\"abcdef\""
      ]
     },
     "metadata": {},
     "output_type": "display_data"
    }
   ],
   "source": [
    "var1 = \"abcdef\""
   ]
  },
  {
   "cell_type": "code",
   "execution_count": 9,
   "metadata": {},
   "outputs": [
    {
     "data": {
      "text/plain": [
       "\"abcdefabcdef\""
      ]
     },
     "metadata": {},
     "output_type": "display_data"
    }
   ],
   "source": [
    "var1 * var1"
   ]
  },
  {
   "cell_type": "code",
   "execution_count": 10,
   "metadata": {},
   "outputs": [
    {
     "data": {
      "text/plain": [
       "\"abcdefabcdef\""
      ]
     },
     "metadata": {},
     "output_type": "display_data"
    }
   ],
   "source": [
    "var1 ^ 2"
   ]
  },
  {
   "cell_type": "code",
   "execution_count": 11,
   "metadata": {},
   "outputs": [
    {
     "data": {
      "text/plain": [
       "'b': ASCII/Unicode U+0062 (category Ll: Letter, lowercase)"
      ]
     },
     "metadata": {},
     "output_type": "display_data"
    }
   ],
   "source": [
    "'a' + 1"
   ]
  },
  {
   "cell_type": "code",
   "execution_count": 12,
   "metadata": {},
   "outputs": [
    {
     "ename": "UndefVarError",
     "evalue": "UndefVarError: `α` not defined",
     "output_type": "error",
     "traceback": [
      "UndefVarError: `α` not defined\n",
      "\n",
      "Stacktrace:\n",
      " [1] top-level scope\n",
      "   @ c:\\Users\\joshm\\Documents\\VSCode\\julia\\JuliaProgrammingForNervousBeginners\\Notebooks\\Week1.ipynb:1"
     ]
    }
   ],
   "source": [
    "α + 1"
   ]
  },
  {
   "cell_type": "code",
   "execution_count": 15,
   "metadata": {},
   "outputs": [
    {
     "data": {
      "text/plain": [
       "'B': ASCII/Unicode U+0042 (category Lu: Letter, uppercase)"
      ]
     },
     "metadata": {},
     "output_type": "display_data"
    }
   ],
   "source": [
    "'A' + 1"
   ]
  },
  {
   "cell_type": "code",
   "execution_count": 20,
   "metadata": {},
   "outputs": [
    {
     "name": "stdout",
     "output_type": "stream",
     "text": [
      "He \t said \n",
      " \"Hello \\ World!\""
     ]
    }
   ],
   "source": [
    "print(\"He \\t said \\n \\\"Hello \\\\ World!\\\"\")"
   ]
  },
  {
   "cell_type": "code",
   "execution_count": 22,
   "metadata": {},
   "outputs": [
    {
     "data": {
      "text/plain": [
       "\"zxyHelp!vut\""
      ]
     },
     "metadata": {},
     "output_type": "display_data"
    }
   ],
   "source": [
    "\"zxy$(\"Help!\")vut\""
   ]
  },
  {
   "cell_type": "code",
   "execution_count": 25,
   "metadata": {},
   "outputs": [
    {
     "data": {
      "text/plain": [
       "3"
      ]
     },
     "metadata": {},
     "output_type": "display_data"
    }
   ],
   "source": [
    "trackedvariable = 3"
   ]
  },
  {
   "cell_type": "code",
   "execution_count": 26,
   "metadata": {},
   "outputs": [
    {
     "name": "stdout",
     "output_type": "stream",
     "text": [
      "The value of trackedvariable is 3"
     ]
    }
   ],
   "source": [
    "print(\"The value of trackedvariable is $(trackedvariable)\")"
   ]
  },
  {
   "cell_type": "code",
   "execution_count": 27,
   "metadata": {},
   "outputs": [
    {
     "data": {
      "text/plain": [
       "\"abcde\""
      ]
     },
     "metadata": {},
     "output_type": "display_data"
    }
   ],
   "source": [
    "eg1 = \"abcde\""
   ]
  },
  {
   "cell_type": "code",
   "execution_count": 30,
   "metadata": {},
   "outputs": [
    {
     "data": {
      "text/plain": [
       "'a': ASCII/Unicode U+0061 (category Ll: Letter, lowercase)"
      ]
     },
     "metadata": {},
     "output_type": "display_data"
    }
   ],
   "source": [
    "eg1[1]"
   ]
  },
  {
   "cell_type": "code",
   "execution_count": 32,
   "metadata": {},
   "outputs": [
    {
     "data": {
      "text/plain": [
       "1"
      ]
     },
     "metadata": {},
     "output_type": "display_data"
    }
   ],
   "source": [
    "length(\"α\")"
   ]
  },
  {
   "cell_type": "code",
   "execution_count": 34,
   "metadata": {},
   "outputs": [
    {
     "data": {
      "text/plain": [
       "2"
      ]
     },
     "metadata": {},
     "output_type": "display_data"
    }
   ],
   "source": [
    "ncodeunits(\"α\")"
   ]
  },
  {
   "cell_type": "code",
   "execution_count": 36,
   "metadata": {},
   "outputs": [
    {
     "data": {
      "text/plain": [
       "13-element Vector{Char}:\n",
       " 'H': ASCII/Unicode U+0048 (category Lu: Letter, uppercase)\n",
       " 'e': ASCII/Unicode U+0065 (category Ll: Letter, lowercase)\n",
       " 'l': ASCII/Unicode U+006C (category Ll: Letter, lowercase)\n",
       " 'l': ASCII/Unicode U+006C (category Ll: Letter, lowercase)\n",
       " 'o': ASCII/Unicode U+006F (category Ll: Letter, lowercase)\n",
       " ',': ASCII/Unicode U+002C (category Po: Punctuation, other)\n",
       " ' ': ASCII/Unicode U+0020 (category Zs: Separator, space)\n",
       " 'w': ASCII/Unicode U+0077 (category Ll: Letter, lowercase)\n",
       " 'o': ASCII/Unicode U+006F (category Ll: Letter, lowercase)\n",
       " 'r': ASCII/Unicode U+0072 (category Ll: Letter, lowercase)\n",
       " 'l': ASCII/Unicode U+006C (category Ll: Letter, lowercase)\n",
       " 'd': ASCII/Unicode U+0064 (category Ll: Letter, lowercase)\n",
       " '!': ASCII/Unicode U+0021 (category Po: Punctuation, other)"
      ]
     },
     "metadata": {},
     "output_type": "display_data"
    }
   ],
   "source": [
    "greeting = \"Hello, world!\"\n",
    "greeting_array = [char for char in greeting]"
   ]
  },
  {
   "cell_type": "code",
   "execution_count": 37,
   "metadata": {},
   "outputs": [
    {
     "ename": "ErrorException",
     "evalue": "syntax: invalid identifier name \"?\"",
     "output_type": "error",
     "traceback": [
      "syntax: invalid identifier name \"?\"\n",
      "\n",
      "Stacktrace:\n",
      " [1] top-level scope\n",
      "   @ c:\\Users\\joshm\\Documents\\VSCode\\julia\\JuliaProgrammingForNervousBeginners\\Notebooks\\Week1.ipynb:1"
     ]
    }
   ],
   "source": [
    "?"
   ]
  },
  {
   "cell_type": "code",
   "execution_count": 46,
   "metadata": {},
   "outputs": [
    {
     "ename": "ErrorException",
     "evalue": "syntax: invalid identifier name \"?\"",
     "output_type": "error",
     "traceback": [
      "syntax: invalid identifier name \"?\"\n",
      "\n",
      "Stacktrace:\n",
      " [1] top-level scope\n",
      "   @ c:\\Users\\joshm\\Documents\\VSCode\\julia\\JuliaProgrammingForNervousBeginners\\Notebooks\\Week1.ipynb:2"
     ]
    }
   ],
   "source": []
  },
  {
   "cell_type": "code",
   "execution_count": 56,
   "metadata": {},
   "outputs": [
    {
     "data": {
      "text/plain": [
       "\"00000000000000000010\""
      ]
     },
     "metadata": {},
     "output_type": "display_data"
    }
   ],
   "source": [
    "string(10, pad=20)"
   ]
  },
  {
   "cell_type": "code",
   "execution_count": 57,
   "metadata": {},
   "outputs": [
    {
     "data": {
      "text/html": [
       "# 6 methods for generic function <b>join</b> from \u001b[90mBase\u001b[39m:<ul><li> join(io::<b>IO</b>, iterator) in Base at <a href=\"https://github.com/JuliaLang/julia/tree/e4ee485e90961018b7e53ce14b8b99335953e176/base/strings/io.jl#L342\" target=\"_blank\">strings/io.jl:342</a></li> <li> join(io::<b>IO</b>, iterator, delim) in Base at <a href=\"https://github.com/JuliaLang/julia/tree/e4ee485e90961018b7e53ce14b8b99335953e176/base/strings/io.jl#L342\" target=\"_blank\">strings/io.jl:342</a></li> <li> join(io::<b>IO</b>, iterator, delim, last) in Base at <a href=\"https://github.com/JuliaLang/julia/tree/e4ee485e90961018b7e53ce14b8b99335953e176/base/strings/io.jl#L326\" target=\"_blank\">strings/io.jl:326</a></li> <li> join(iterator) in Base at <a href=\"https://github.com/JuliaLang/julia/tree/e4ee485e90961018b7e53ce14b8b99335953e176/base/strings/io.jl#L352\" target=\"_blank\">strings/io.jl:352</a></li> <li> join(iterator, delim) in Base at <a href=\"https://github.com/JuliaLang/julia/tree/e4ee485e90961018b7e53ce14b8b99335953e176/base/strings/io.jl#L353\" target=\"_blank\">strings/io.jl:353</a></li> <li> join(iterator, delim, last) in Base at <a href=\"https://github.com/JuliaLang/julia/tree/e4ee485e90961018b7e53ce14b8b99335953e176/base/strings/io.jl#L354\" target=\"_blank\">strings/io.jl:354</a></li> </ul>"
      ],
      "text/plain": [
       "# 6 methods for generic function \"join\" from \u001b[90mBase\u001b[39m:\n",
       " [1] join(\u001b[90mio\u001b[39m::\u001b[1mIO\u001b[22m, \u001b[90miterator\u001b[39m)\n",
       "\u001b[90m     @\u001b[39m \u001b[90mstrings\\\u001b[39m\u001b[90m\u001b[4mio.jl:342\u001b[24m\u001b[39m\n",
       " [2] join(\u001b[90mio\u001b[39m::\u001b[1mIO\u001b[22m, \u001b[90miterator\u001b[39m, \u001b[90mdelim\u001b[39m)\n",
       "\u001b[90m     @\u001b[39m \u001b[90mstrings\\\u001b[39m\u001b[90m\u001b[4mio.jl:342\u001b[24m\u001b[39m\n",
       " [3] join(\u001b[90mio\u001b[39m::\u001b[1mIO\u001b[22m, \u001b[90miterator\u001b[39m, \u001b[90mdelim\u001b[39m, \u001b[90mlast\u001b[39m)\n",
       "\u001b[90m     @\u001b[39m \u001b[90mstrings\\\u001b[39m\u001b[90m\u001b[4mio.jl:326\u001b[24m\u001b[39m\n",
       " [4] join(\u001b[90miterator\u001b[39m)\n",
       "\u001b[90m     @\u001b[39m \u001b[90mstrings\\\u001b[39m\u001b[90m\u001b[4mio.jl:352\u001b[24m\u001b[39m\n",
       " [5] join(\u001b[90miterator\u001b[39m, \u001b[90mdelim\u001b[39m)\n",
       "\u001b[90m     @\u001b[39m \u001b[90mstrings\\\u001b[39m\u001b[90m\u001b[4mio.jl:353\u001b[24m\u001b[39m\n",
       " [6] join(\u001b[90miterator\u001b[39m, \u001b[90mdelim\u001b[39m, \u001b[90mlast\u001b[39m)\n",
       "\u001b[90m     @\u001b[39m \u001b[90mstrings\\\u001b[39m\u001b[90m\u001b[4mio.jl:354\u001b[24m\u001b[39m"
      ]
     },
     "metadata": {},
     "output_type": "display_data"
    }
   ],
   "source": [
    "methods(join)"
   ]
  },
  {
   "cell_type": "code",
   "execution_count": null,
   "metadata": {},
   "outputs": [],
   "source": []
  }
 ],
 "metadata": {
  "kernelspec": {
   "display_name": "Julia 1.9.2",
   "language": "julia",
   "name": "julia-1.9"
  },
  "language_info": {
   "file_extension": ".jl",
   "mimetype": "application/julia",
   "name": "julia",
   "version": "1.9.2"
  },
  "orig_nbformat": 4
 },
 "nbformat": 4,
 "nbformat_minor": 2
}
